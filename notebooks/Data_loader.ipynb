{
 "cells": [
  {
   "cell_type": "code",
   "execution_count": 1,
   "metadata": {},
   "outputs": [],
   "source": [
    "import os\n",
    "if 'flearn' not in os.listdir():\n",
    "    os.chdir('../')"
   ]
  },
  {
   "cell_type": "code",
   "execution_count": 2,
   "metadata": {},
   "outputs": [],
   "source": [
    "from flearn.common.dataset import read_data_dict"
   ]
  },
  {
   "cell_type": "markdown",
   "metadata": {},
   "source": [
    "# SYNTHETIC"
   ]
  },
  {
   "cell_type": "code",
   "execution_count": 3,
   "metadata": {},
   "outputs": [],
   "source": [
    "# Synthetic dataset\n",
    "SYNTHETIC_TRAIN = 'data/synthetic/train'\n",
    "SYNTHETIC_TEST = 'data/synthetic/test'\n",
    "synthetic = read_data_dict(SYNTHETIC_TRAIN, SYNTHETIC_TEST)"
   ]
  },
  {
   "cell_type": "code",
   "execution_count": 4,
   "metadata": {},
   "outputs": [
    {
     "data": {
      "text/plain": [
       "dict_keys(['f_00000', 'f_00001', 'f_00002', 'f_00003', 'f_00004', 'f_00005', 'f_00006', 'f_00007', 'f_00008', 'f_00009', 'f_00010', 'f_00011', 'f_00012', 'f_00013', 'f_00014', 'f_00015', 'f_00016', 'f_00017', 'f_00018', 'f_00019', 'f_00020', 'f_00021', 'f_00022', 'f_00023', 'f_00024', 'f_00025', 'f_00026', 'f_00027', 'f_00028', 'f_00029', 'f_00030', 'f_00031', 'f_00032', 'f_00033', 'f_00034', 'f_00035', 'f_00036', 'f_00037', 'f_00038', 'f_00039', 'f_00040', 'f_00041', 'f_00042', 'f_00043', 'f_00044', 'f_00045', 'f_00046', 'f_00047', 'f_00048', 'f_00049', 'f_00050', 'f_00051', 'f_00052', 'f_00053', 'f_00054', 'f_00055', 'f_00056', 'f_00057', 'f_00058', 'f_00059', 'f_00060', 'f_00061', 'f_00062', 'f_00063', 'f_00064', 'f_00065', 'f_00066', 'f_00067', 'f_00068', 'f_00069', 'f_00070', 'f_00071', 'f_00072', 'f_00073', 'f_00074', 'f_00075', 'f_00076', 'f_00077', 'f_00078', 'f_00079', 'f_00080', 'f_00081', 'f_00082', 'f_00083', 'f_00084', 'f_00085', 'f_00086', 'f_00087', 'f_00088', 'f_00089', 'f_00090', 'f_00091', 'f_00092', 'f_00093', 'f_00094', 'f_00095', 'f_00096', 'f_00097', 'f_00098', 'f_00099'])"
      ]
     },
     "execution_count": 4,
     "metadata": {},
     "output_type": "execute_result"
    }
   ],
   "source": [
    "synthetic.keys()"
   ]
  },
  {
   "cell_type": "code",
   "execution_count": 5,
   "metadata": {},
   "outputs": [
    {
     "data": {
      "text/plain": [
       "dict_keys(['x_train', 'y_train', 'x_test', 'y_test'])"
      ]
     },
     "execution_count": 5,
     "metadata": {},
     "output_type": "execute_result"
    }
   ],
   "source": [
    "synthetic['f_00000'].keys()"
   ]
  },
  {
   "cell_type": "code",
   "execution_count": 6,
   "metadata": {},
   "outputs": [
    {
     "data": {
      "text/plain": [
       "tensor([[ 1.2372, -1.0222,  0.5002,  ...,  0.6478, -1.1394, -0.4948],\n",
       "        [ 1.5639,  1.3761,  0.9715,  ...,  0.7541, -1.0895, -0.4711],\n",
       "        [ 1.2097, -1.0054,  0.5866,  ...,  0.6891, -0.9008, -0.2697],\n",
       "        ...,\n",
       "        [ 1.3978, -0.6363, -0.0668,  ...,  0.7351, -1.1150, -0.3637],\n",
       "        [-0.4188, -0.1757,  0.9416,  ...,  0.7549, -1.1573, -0.4687],\n",
       "        [ 1.7939,  0.4818,  0.1425,  ...,  0.7341, -1.0599, -0.4418]])"
      ]
     },
     "execution_count": 6,
     "metadata": {},
     "output_type": "execute_result"
    }
   ],
   "source": [
    "synthetic['f_00000']['x_train']"
   ]
  },
  {
   "cell_type": "markdown",
   "metadata": {},
   "source": [
    "# VEHICLE"
   ]
  },
  {
   "cell_type": "code",
   "execution_count": 7,
   "metadata": {},
   "outputs": [],
   "source": [
    "# Vehicle\n",
    "VEHICLE_TRAIN = 'data/vehicle/train'\n",
    "VEHICLE_TEST = 'data/vehicle/test'\n",
    "vehicle = read_data_dict(VEHICLE_TRAIN, VEHICLE_TEST)"
   ]
  },
  {
   "cell_type": "code",
   "execution_count": 8,
   "metadata": {},
   "outputs": [
    {
     "data": {
      "text/plain": [
       "dict_keys(['f_00000', 'f_00001', 'f_00002', 'f_00003', 'f_00004', 'f_00005', 'f_00006', 'f_00007', 'f_00008', 'f_00009', 'f_00010', 'f_00011', 'f_00012', 'f_00013', 'f_00014', 'f_00015', 'f_00016', 'f_00017', 'f_00018', 'f_00019', 'f_00020', 'f_00021', 'f_00022'])"
      ]
     },
     "execution_count": 8,
     "metadata": {},
     "output_type": "execute_result"
    }
   ],
   "source": [
    "vehicle.keys()"
   ]
  },
  {
   "cell_type": "code",
   "execution_count": 9,
   "metadata": {},
   "outputs": [
    {
     "data": {
      "text/plain": [
       "tensor([[-0.7539, -0.8049, -0.7452,  ...,  0.6363,  0.6959,  0.7005],\n",
       "        [ 0.1529,  0.8774,  0.0326,  ...,  0.6125,  0.6708,  0.6712],\n",
       "        [-0.4418, -0.5559, -0.4082,  ...,  0.4096,  0.4839,  0.4453],\n",
       "        ...,\n",
       "        [-0.6167, -0.6606, -0.5050,  ..., -4.0271, -4.0708, -4.3469],\n",
       "        [-0.6371, -0.7681, -0.6109,  ...,  0.8455,  0.9015,  0.9391],\n",
       "        [-0.0356, -0.6426, -0.1226,  ..., -0.8289, -0.9022, -0.8898]])"
      ]
     },
     "execution_count": 9,
     "metadata": {},
     "output_type": "execute_result"
    }
   ],
   "source": [
    "vehicle['f_00000']['x_train']"
   ]
  },
  {
   "cell_type": "markdown",
   "metadata": {},
   "source": [
    "# ADULT"
   ]
  },
  {
   "cell_type": "code",
   "execution_count": 10,
   "metadata": {},
   "outputs": [],
   "source": [
    "# Adult\n",
    "ADULT_TRAIN = 'data/adult/data/train'\n",
    "ADULT_TEST = 'data/adult/data/test'\n",
    "adult = read_data_dict(ADULT_TRAIN, ADULT_TEST)"
   ]
  },
  {
   "cell_type": "code",
   "execution_count": 11,
   "metadata": {},
   "outputs": [
    {
     "data": {
      "text/plain": [
       "dict_keys(['non-phd', 'phd'])"
      ]
     },
     "execution_count": 11,
     "metadata": {},
     "output_type": "execute_result"
    }
   ],
   "source": [
    "adult.keys()"
   ]
  },
  {
   "cell_type": "code",
   "execution_count": 12,
   "metadata": {},
   "outputs": [
    {
     "data": {
      "text/plain": [
       "dict_keys(['x_train', 'y_train', 'x_test', 'y_test'])"
      ]
     },
     "execution_count": 12,
     "metadata": {},
     "output_type": "execute_result"
    }
   ],
   "source": [
    "adult['non-phd'].keys()"
   ]
  },
  {
   "cell_type": "code",
   "execution_count": 13,
   "metadata": {},
   "outputs": [
    {
     "data": {
      "text/plain": [
       "tensor([[0., 0., 0.,  ..., 0., 0., 0.],\n",
       "        [0., 1., 0.,  ..., 0., 0., 0.],\n",
       "        [1., 0., 0.,  ..., 0., 0., 0.],\n",
       "        ...,\n",
       "        [1., 0., 0.,  ..., 0., 0., 0.],\n",
       "        [1., 0., 0.,  ..., 0., 0., 0.],\n",
       "        [0., 0., 1.,  ..., 0., 0., 0.]])"
      ]
     },
     "execution_count": 13,
     "metadata": {},
     "output_type": "execute_result"
    }
   ],
   "source": [
    "adult['non-phd']['x_train']"
   ]
  },
  {
   "cell_type": "code",
   "execution_count": null,
   "metadata": {},
   "outputs": [],
   "source": []
  }
 ],
 "metadata": {
  "kernelspec": {
   "display_name": "Python 3",
   "language": "python",
   "name": "python3"
  },
  "language_info": {
   "codemirror_mode": {
    "name": "ipython",
    "version": 3
   },
   "file_extension": ".py",
   "mimetype": "text/x-python",
   "name": "python",
   "nbconvert_exporter": "python",
   "pygments_lexer": "ipython3",
   "version": "3.7.9"
  }
 },
 "nbformat": 4,
 "nbformat_minor": 4
}
