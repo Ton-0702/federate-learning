{
 "cells": [
  {
   "cell_type": "code",
   "execution_count": 1,
   "metadata": {},
   "outputs": [],
   "source": [
    "import os\n",
    "os.chdir('../')\n",
    "\n",
    "from flearn.common.dataset import read_data"
   ]
  },
  {
   "cell_type": "code",
   "execution_count": 2,
   "metadata": {},
   "outputs": [],
   "source": [
    "import numpy as np\n",
    "import pandas as pd\n",
    "import torch\n",
    "import matplotlib.pyplot as plt\n",
    "import matplotlib as mpl\n",
    "mpl.rcParams['figure.dpi'] = 100"
   ]
  },
  {
   "cell_type": "code",
   "execution_count": 3,
   "metadata": {},
   "outputs": [],
   "source": [
    "train_dir='data/vehicle/train/'\n",
    "test_dir='data/vehicle/test/'"
   ]
  },
  {
   "cell_type": "code",
   "execution_count": 4,
   "metadata": {},
   "outputs": [],
   "source": [
    "clients, groups, train_data, test_data = read_data(train_dir, test_dir, True)"
   ]
  },
  {
   "cell_type": "markdown",
   "metadata": {},
   "source": [
    "# Distribution of target - Vehicle"
   ]
  },
  {
   "cell_type": "code",
   "execution_count": 5,
   "metadata": {},
   "outputs": [],
   "source": [
    "count_label = []\n",
    "for key, val in train_data.items():\n",
    "    y = val['y']\n",
    "    pos = (y == 1).sum().item()\n",
    "    neg = len(y) - pos\n",
    "    count_label.append(\n",
    "    {\n",
    "        'client': key,\n",
    "        'pos': pos,\n",
    "        'neg': neg\n",
    "    })"
   ]
  },
  {
   "cell_type": "code",
   "execution_count": 6,
   "metadata": {},
   "outputs": [],
   "source": [
    "df = pd.DataFrame(count_label)"
   ]
  },
  {
   "cell_type": "code",
   "execution_count": 7,
   "metadata": {},
   "outputs": [
    {
     "data": {
      "text/plain": [
       "Text(0.5, 0, 'Clients')"
      ]
     },
     "execution_count": 7,
     "metadata": {},
     "output_type": "execute_result"
    },
    {
     "data": {
      "image/png": "[encoded data removed]",
      "text/plain": [
       "<Figure size 600x400 with 1 Axes>"
      ]
     },
     "metadata": {
      "needs_background": "light"
     },
     "output_type": "display_data"
    }
   ],
   "source": [
    "fig, ax = plt.subplots()\n",
    "plt.xticks(df.index, df.client, rotation='vertical')\n",
    "ax.bar(df.index, df.pos, label='Positive')\n",
    "ax.bar(df.index, df.neg, label='Negative', bottom=df.pos)\n",
    "ax.legend(bbox_to_anchor=(1.3, 0.8))\n",
    "ax.set_title(\"Distribution of Labels\")\n",
    "ax.set_xlabel('Clients')"
   ]
  },
  {
   "cell_type": "markdown",
   "metadata": {},
   "source": [
    "# Fairness Violation"
   ]
  },
  {
   "cell_type": "code",
   "execution_count": 8,
   "metadata": {},
   "outputs": [],
   "source": [
    "from viz.utils import *\n",
    "from main import run_vehicle"
   ]
  },
  {
   "cell_type": "code",
   "execution_count": 85,
   "metadata": {},
   "outputs": [],
   "source": [
    "def get_fairness(df):\n",
    "    fairness = []\n",
    "    for r in df['round'].unique():\n",
    "        res = df[(df['round']==r) & (df['c_name'] != 'global')]\n",
    "        min_max = res.test_acc.max() - res.test_acc.min()\n",
    "        std = res.test_acc.std()\n",
    "        gi = gini(res.test_acc.tolist())\n",
    "        acc = df[df['c_name'] == 'global']['test_acc'].tolist()[-1]\n",
    "        fairness.append({\n",
    "            'round': r,\n",
    "            'min_max': min_max,\n",
    "            'std':std,\n",
    "            'gini': gi,\n",
    "            'acc': acc\n",
    "        })\n",
    "    return fairness"
   ]
  },
  {
   "cell_type": "code",
   "execution_count": 86,
   "metadata": {
    "scrolled": true
   },
   "outputs": [],
   "source": [
    "def train_model(train_dir='data/vehicle/train/',\n",
    "                test_dir='data/vehicle/test/',\n",
    "                method_name='DL_FedAvgServer',\n",
    "                s=0.5,\n",
    "                q=5.0\n",
    "               ):\n",
    "    configs={\n",
    "        # Model configs\n",
    "        'layer_sizes': [100,1], 'act_funcs': ['none'],\n",
    "        'dataset_name': 'vehicle',\n",
    "        'method_name': method_name,\n",
    "        # Server configs\n",
    "        'num_rounds': 20,\n",
    "        'pct_client_per_round': 10.0/23.0,\n",
    "        'num_epochs': 1,\n",
    "        'batch_size': 64,\n",
    "        'lr': 0.01,\n",
    "        's': s,\n",
    "        'q': q,\n",
    "        'disable_tqdm':False\n",
    "    }\n",
    "\n",
    "    server, clients = run_vehicle(train_dir, test_dir, configs, report=False)\n",
    "    # df = get_results_from_server(server)\n",
    "    return server, clients"
   ]
  },
  {
   "cell_type": "code",
   "execution_count": 87,
   "metadata": {},
   "outputs": [
    {
     "name": "stderr",
     "output_type": "stream",
     "text": [
      "100%|██████████| 20/20 [00:03<00:00,  6.35it/s]\n",
      "100%|██████████| 20/20 [00:03<00:00,  6.57it/s]\n",
      "100%|██████████| 20/20 [00:03<00:00,  6.46it/s]\n",
      "100%|██████████| 20/20 [00:03<00:00,  6.50it/s]\n",
      "100%|██████████| 20/20 [00:02<00:00,  6.84it/s]\n",
      "100%|██████████| 20/20 [00:03<00:00,  5.95it/s]\n",
      "  0%|          | 0/20 [00:00<?, ?it/s]/home/huypham/Projects/federate-learning/flearn/algo/server.py:353: RuntimeWarning: invalid value encountered in double_scalars\n",
      "  clt.update_lambda(clt.get_lambda()/k)\n",
      "100%|██████████| 20/20 [00:02<00:00,  6.71it/s]\n",
      "100%|██████████| 20/20 [00:02<00:00,  7.05it/s]\n",
      "100%|██████████| 20/20 [00:02<00:00,  7.11it/s]\n",
      "100%|██████████| 20/20 [00:03<00:00,  6.44it/s]\n",
      "100%|██████████| 20/20 [00:02<00:00,  6.98it/s]\n"
     ]
    }
   ],
   "source": [
    "from sklearn.model_selection import ParameterGrid\n",
    "\n",
    "grid = [\n",
    "    {\n",
    "        \"method_name\": ['QFedAvgServer'],\n",
    "        'q': [0, 1, 2, 3, 4, 5]\n",
    "    },\n",
    "    {\n",
    "        \"method_name\": ['DL_FedAvgServer'],\n",
    "        's': [0, 0.5, 1, 3, 5]\n",
    "    }\n",
    "]\n",
    "\n",
    "experiments = []\n",
    "\n",
    "for params in list(ParameterGrid(grid)):\n",
    "   \n",
    "    server, clients = train_model(**params)\n",
    "    df = get_results_from_server(server)\n",
    "    fn = get_fairness(df)\n",
    "    params.update(fn[-1])\n",
    "    experiments.append(\n",
    "        params\n",
    "    )"
   ]
  },
  {
   "cell_type": "code",
   "execution_count": 88,
   "metadata": {},
   "outputs": [],
   "source": [
    "exp = pd.DataFrame(experiments)"
   ]
  },
  {
   "cell_type": "code",
   "execution_count": 89,
   "metadata": {},
   "outputs": [
    {
     "data": {
      "text/html": [
       "<div>\n",
       "<style scoped>\n",
       "    .dataframe tbody tr th:only-of-type {\n",
       "        vertical-align: middle;\n",
       "    }\n",
       "\n",
       "    .dataframe tbody tr th {\n",
       "        vertical-align: top;\n",
       "    }\n",
       "\n",
       "    .dataframe thead th {\n",
       "        text-align: right;\n",
       "    }\n",
       "</style>\n",
       "<table border=\"1\" class=\"dataframe\">\n",
       "  <thead>\n",
       "    <tr style=\"text-align: right;\">\n",
       "      <th></th>\n",
       "      <th>method_name</th>\n",
       "      <th>q</th>\n",
       "      <th>round</th>\n",
       "      <th>min_max</th>\n",
       "      <th>std</th>\n",
       "      <th>gini</th>\n",
       "      <th>acc</th>\n",
       "      <th>s</th>\n",
       "    </tr>\n",
       "  </thead>\n",
       "  <tbody>\n",
       "    <tr>\n",
       "      <th>0</th>\n",
       "      <td>QFedAvgServer</td>\n",
       "      <td>0.0</td>\n",
       "      <td>20</td>\n",
       "      <td>0.146417</td>\n",
       "      <td>0.032908</td>\n",
       "      <td>0.018872</td>\n",
       "      <td>0.923703</td>\n",
       "      <td>NaN</td>\n",
       "    </tr>\n",
       "    <tr>\n",
       "      <th>1</th>\n",
       "      <td>QFedAvgServer</td>\n",
       "      <td>1.0</td>\n",
       "      <td>20</td>\n",
       "      <td>0.109529</td>\n",
       "      <td>0.027132</td>\n",
       "      <td>0.015856</td>\n",
       "      <td>0.925990</td>\n",
       "      <td>NaN</td>\n",
       "    </tr>\n",
       "    <tr>\n",
       "      <th>2</th>\n",
       "      <td>QFedAvgServer</td>\n",
       "      <td>2.0</td>\n",
       "      <td>20</td>\n",
       "      <td>0.158205</td>\n",
       "      <td>0.032674</td>\n",
       "      <td>0.018355</td>\n",
       "      <td>0.925258</td>\n",
       "      <td>NaN</td>\n",
       "    </tr>\n",
       "    <tr>\n",
       "      <th>3</th>\n",
       "      <td>QFedAvgServer</td>\n",
       "      <td>3.0</td>\n",
       "      <td>20</td>\n",
       "      <td>0.099557</td>\n",
       "      <td>0.025378</td>\n",
       "      <td>0.014756</td>\n",
       "      <td>0.927180</td>\n",
       "      <td>NaN</td>\n",
       "    </tr>\n",
       "    <tr>\n",
       "      <th>4</th>\n",
       "      <td>QFedAvgServer</td>\n",
       "      <td>4.0</td>\n",
       "      <td>20</td>\n",
       "      <td>0.140366</td>\n",
       "      <td>0.032846</td>\n",
       "      <td>0.019031</td>\n",
       "      <td>0.923154</td>\n",
       "      <td>NaN</td>\n",
       "    </tr>\n",
       "    <tr>\n",
       "      <th>5</th>\n",
       "      <td>QFedAvgServer</td>\n",
       "      <td>5.0</td>\n",
       "      <td>20</td>\n",
       "      <td>0.133494</td>\n",
       "      <td>0.031630</td>\n",
       "      <td>0.018018</td>\n",
       "      <td>0.922971</td>\n",
       "      <td>NaN</td>\n",
       "    </tr>\n",
       "    <tr>\n",
       "      <th>6</th>\n",
       "      <td>DL_FedAvgServer</td>\n",
       "      <td>NaN</td>\n",
       "      <td>19</td>\n",
       "      <td>0.145763</td>\n",
       "      <td>0.030375</td>\n",
       "      <td>0.017053</td>\n",
       "      <td>0.925899</td>\n",
       "      <td>0.0</td>\n",
       "    </tr>\n",
       "    <tr>\n",
       "      <th>7</th>\n",
       "      <td>DL_FedAvgServer</td>\n",
       "      <td>NaN</td>\n",
       "      <td>19</td>\n",
       "      <td>0.126942</td>\n",
       "      <td>0.030574</td>\n",
       "      <td>0.018080</td>\n",
       "      <td>0.922240</td>\n",
       "      <td>0.5</td>\n",
       "    </tr>\n",
       "    <tr>\n",
       "      <th>8</th>\n",
       "      <td>DL_FedAvgServer</td>\n",
       "      <td>NaN</td>\n",
       "      <td>19</td>\n",
       "      <td>0.154681</td>\n",
       "      <td>0.032527</td>\n",
       "      <td>0.018753</td>\n",
       "      <td>0.923978</td>\n",
       "      <td>1.0</td>\n",
       "    </tr>\n",
       "    <tr>\n",
       "      <th>9</th>\n",
       "      <td>DL_FedAvgServer</td>\n",
       "      <td>NaN</td>\n",
       "      <td>19</td>\n",
       "      <td>0.124725</td>\n",
       "      <td>0.025880</td>\n",
       "      <td>0.014516</td>\n",
       "      <td>0.929101</td>\n",
       "      <td>3.0</td>\n",
       "    </tr>\n",
       "    <tr>\n",
       "      <th>10</th>\n",
       "      <td>DL_FedAvgServer</td>\n",
       "      <td>NaN</td>\n",
       "      <td>19</td>\n",
       "      <td>0.119292</td>\n",
       "      <td>0.025895</td>\n",
       "      <td>0.014995</td>\n",
       "      <td>0.928277</td>\n",
       "      <td>5.0</td>\n",
       "    </tr>\n",
       "  </tbody>\n",
       "</table>\n",
       "</div>"
      ],
      "text/plain": [
       "        method_name    q  round   min_max       std      gini       acc    s\n",
       "0     QFedAvgServer  0.0     20  0.146417  0.032908  0.018872  0.923703  NaN\n",
       "1     QFedAvgServer  1.0     20  0.109529  0.027132  0.015856  0.925990  NaN\n",
       "2     QFedAvgServer  2.0     20  0.158205  0.032674  0.018355  0.925258  NaN\n",
       "3     QFedAvgServer  3.0     20  0.099557  0.025378  0.014756  0.927180  NaN\n",
       "4     QFedAvgServer  4.0     20  0.140366  0.032846  0.019031  0.923154  NaN\n",
       "5     QFedAvgServer  5.0     20  0.133494  0.031630  0.018018  0.922971  NaN\n",
       "6   DL_FedAvgServer  NaN     19  0.145763  0.030375  0.017053  0.925899  0.0\n",
       "7   DL_FedAvgServer  NaN     19  0.126942  0.030574  0.018080  0.922240  0.5\n",
       "8   DL_FedAvgServer  NaN     19  0.154681  0.032527  0.018753  0.923978  1.0\n",
       "9   DL_FedAvgServer  NaN     19  0.124725  0.025880  0.014516  0.929101  3.0\n",
       "10  DL_FedAvgServer  NaN     19  0.119292  0.025895  0.014995  0.928277  5.0"
      ]
     },
     "execution_count": 89,
     "metadata": {},
     "output_type": "execute_result"
    }
   ],
   "source": [
    "exp"
   ]
  },
  {
   "cell_type": "code",
   "execution_count": 91,
   "metadata": {},
   "outputs": [
    {
     "data": {
      "text/plain": [
       "<matplotlib.axes._subplots.AxesSubplot at 0x7fe68ee027f0>"
      ]
     },
     "execution_count": 91,
     "metadata": {},
     "output_type": "execute_result"
    },
    {
     "data": {
      "image/png": "[encoded data removed]",
      "text/plain": [
       "<Figure size 600x400 with 1 Axes>"
      ]
     },
     "metadata": {
      "needs_background": "light"
     },
     "output_type": "display_data"
    }
   ],
   "source": [
    "# QFed\n",
    "df = exp[exp['method_name'] == 'QFedAvgServer'][['q', 'min_max', 'std', 'gini']]\n",
    "df.plot(x='q')"
   ]
  },
  {
   "cell_type": "code",
   "execution_count": 79,
   "metadata": {},
   "outputs": [
    {
     "data": {
      "text/plain": [
       "<matplotlib.axes._subplots.AxesSubplot at 0x7fe68e70eb00>"
      ]
     },
     "execution_count": 79,
     "metadata": {},
     "output_type": "execute_result"
    },
    {
     "data": {
      "image/png": "[encoded data removed]",
      "text/plain": [
       "<Figure size 600x400 with 1 Axes>"
      ]
     },
     "metadata": {
      "needs_background": "light"
     },
     "output_type": "display_data"
    }
   ],
   "source": [
    "# QFed\n",
    "df = exp[exp['method_name'] == 'DL_FedAvgServer'][['s', 'min_max', 'std', 'gini']]\n",
    "df.plot(x='s')"
   ]
  },
  {
   "cell_type": "code",
   "execution_count": null,
   "metadata": {},
   "outputs": [],
   "source": []
  }
 ],
 "metadata": {
  "kernelspec": {
   "display_name": "Python 3",
   "language": "python",
   "name": "python3"
  },
  "language_info": {
   "codemirror_mode": {
    "name": "ipython",
    "version": 3
   },
   "file_extension": ".py",
   "mimetype": "text/x-python",
   "name": "python",
   "nbconvert_exporter": "python",
   "pygments_lexer": "ipython3",
   "version": "3.6.10"
  }
 },
 "nbformat": 4,
 "nbformat_minor": 4
}
