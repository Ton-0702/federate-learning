{
 "cells": [
  {
   "cell_type": "code",
   "execution_count": 22,
   "metadata": {},
   "outputs": [],
   "source": [
    "import os\n",
    "if 'flearn' not in os.listdir():\n",
    "    os.chdir('../')\n",
    "\n",
    "from flearn.common.dataset import read_data"
   ]
  },
  {
   "cell_type": "code",
   "execution_count": 23,
   "metadata": {},
   "outputs": [],
   "source": [
    "import numpy as np\n",
    "import pandas as pd\n",
    "import torch\n",
    "import matplotlib.pyplot as plt\n",
    "import matplotlib as mpl\n",
    "mpl.rcParams['figure.dpi'] = 100"
   ]
  },
  {
   "cell_type": "code",
   "execution_count": 24,
   "metadata": {},
   "outputs": [],
   "source": [
    "train_dir='data/vehicle/train/'\n",
    "test_dir='data/vehicle/test/'"
   ]
  },
  {
   "cell_type": "code",
   "execution_count": 25,
   "metadata": {},
   "outputs": [],
   "source": [
    "clients, groups, train_data, test_data = read_data(train_dir, test_dir, True)"
   ]
  },
  {
   "cell_type": "markdown",
   "metadata": {},
   "source": [
    "# Distribution of target - Vehicle"
   ]
  },
  {
   "cell_type": "code",
   "execution_count": 26,
   "metadata": {},
   "outputs": [],
   "source": [
    "count_label = []\n",
    "for key, val in train_data.items():\n",
    "    y = val['y']\n",
    "    pos = (y == 1).sum().item()\n",
    "    neg = len(y) - pos\n",
    "    count_label.append(\n",
    "    {\n",
    "        'client': key,\n",
    "        'pos': pos,\n",
    "        'neg': neg\n",
    "    })"
   ]
  },
  {
   "cell_type": "code",
   "execution_count": 27,
   "metadata": {},
   "outputs": [],
   "source": [
    "df = pd.DataFrame(count_label)"
   ]
  },
  {
   "cell_type": "code",
   "execution_count": null,
   "metadata": {},
   "outputs": [],
   "source": [
    "pos = 0\n",
    "neg = 0\n",
    "for i in count_label:\n",
    "    pos += i['pos']\n",
    "    neg += i['neg']"
   ]
  },
  {
   "cell_type": "code",
   "execution_count": 37,
   "metadata": {},
   "outputs": [
    {
     "data": {
      "image/png": "[encoded data removed]",
      "text/plain": [
       "<Figure size 600x400 with 1 Axes>"
      ]
     },
     "metadata": {
      "needs_background": "light"
     },
     "output_type": "display_data"
    }
   ],
   "source": [
    "fig, ax = plt.subplots()\n",
    "plt.xticks(df.index, df.client, rotation='vertical')\n",
    "ax.bar(df.index, df.pos, label=f'Positive(Total={pos})')\n",
    "ax.bar(df.index, df.neg, label=f'Negative(Total={neg})', bottom=df.pos)\n",
    "ax.legend(bbox_to_anchor=(1.0, 0.8))\n",
    "ax.set_title(\"Distribution of Labels\")\n",
    "ax.set_xlabel('Clients')\n",
    "plt.savefig('labels.png')"
   ]
  },
  {
   "cell_type": "code",
   "execution_count": 32,
   "metadata": {},
   "outputs": [],
   "source": []
  },
  {
   "cell_type": "code",
   "execution_count": 34,
   "metadata": {},
   "outputs": [
    {
     "data": {
      "text/plain": [
       "15731"
      ]
     },
     "execution_count": 34,
     "metadata": {},
     "output_type": "execute_result"
    }
   ],
   "source": [
    "neg"
   ]
  },
  {
   "cell_type": "markdown",
   "metadata": {},
   "source": [
    "# Fairness Violation"
   ]
  },
  {
   "cell_type": "code",
   "execution_count": 1,
   "metadata": {},
   "outputs": [],
   "source": [
    "import os\n",
    "if 'flearn' not in os.listdir():\n",
    "    os.chdir('../')\n",
    "\n",
    "from viz.utils import *\n",
    "from main import run_vehicle"
   ]
  },
  {
   "cell_type": "code",
   "execution_count": 2,
   "metadata": {},
   "outputs": [],
   "source": [
    "def get_fairness(df):\n",
    "    fairness = []\n",
    "    for r in df['round'].unique():\n",
    "        res = df[(df['round']==r) & (df['c_name'] != 'global')]\n",
    "        min_max = res.test_acc.max() - res.test_acc.min()\n",
    "        var = res.test_acc.var()*1e4\n",
    "        gi = gini(res.test_acc.tolist())\n",
    "        acc = df[df['c_name'] == 'global']['test_acc'].tolist()[-1]\n",
    "        fairness.append({\n",
    "            'round': r,\n",
    "            'min_max': min_max,\n",
    "            'var':var,\n",
    "            'gini': gi,\n",
    "            'acc': acc\n",
    "        })\n",
    "    return fairness"
   ]
  },
  {
   "cell_type": "code",
   "execution_count": 3,
   "metadata": {
    "scrolled": true
   },
   "outputs": [],
   "source": [
    "def train_model(train_dir='data/vehicle/train/',\n",
    "                test_dir='data/vehicle/test/',\n",
    "                method_name='DL_FedAvgServer',\n",
    "                s=0.5,\n",
    "                q=5.0\n",
    "               ):\n",
    "    configs={\n",
    "        # Model configs\n",
    "        'layer_sizes': [100,1], 'act_funcs': ['none'],\n",
    "        'dataset_name': 'vehicle',\n",
    "        'method_name': method_name,\n",
    "        # Server configs\n",
    "        'num_rounds': 20,\n",
    "        'pct_client_per_round': 10.0/23.0,\n",
    "        'num_epochs': 1,\n",
    "        'batch_size': 64,\n",
    "        'lr': 0.01,\n",
    "        's': s,\n",
    "        'q': q,\n",
    "        'disable_tqdm':False\n",
    "    }\n",
    "\n",
    "    server, clients = run_vehicle(train_dir, test_dir, configs, report=False)\n",
    "    # df = get_results_from_server(server)\n",
    "    return server, clients"
   ]
  },
  {
   "cell_type": "code",
   "execution_count": 9,
   "metadata": {
    "scrolled": true
   },
   "outputs": [
    {
     "name": "stderr",
     "output_type": "stream",
     "text": [
      "100%|██████████| 20/20 [00:02<00:00,  6.83it/s]\n",
      "100%|██████████| 20/20 [00:03<00:00,  6.28it/s]\n",
      "100%|██████████| 20/20 [00:02<00:00,  7.12it/s]\n",
      "100%|██████████| 20/20 [00:02<00:00,  6.87it/s]\n",
      "100%|██████████| 20/20 [00:02<00:00,  7.18it/s]\n",
      "100%|██████████| 20/20 [00:02<00:00,  6.99it/s]\n",
      "100%|██████████| 20/20 [00:02<00:00,  7.16it/s]\n",
      "  0%|          | 0/20 [00:00<?, ?it/s]/home/huypham/Projects/federate-learning/flearn/algo/server.py:364: RuntimeWarning: invalid value encountered in double_scalars\n",
      "  clt.update_lambda(clt.get_lambda()/k)\n",
      "100%|██████████| 20/20 [00:02<00:00,  7.81it/s]\n",
      "100%|██████████| 20/20 [00:02<00:00,  8.06it/s]\n",
      "100%|██████████| 20/20 [00:02<00:00,  8.16it/s]\n",
      "100%|██████████| 20/20 [00:02<00:00,  7.84it/s]\n",
      "100%|██████████| 20/20 [00:02<00:00,  7.72it/s]\n",
      "100%|██████████| 20/20 [00:02<00:00,  7.95it/s]\n",
      "100%|██████████| 20/20 [00:02<00:00,  7.95it/s]\n"
     ]
    }
   ],
   "source": [
    "from sklearn.model_selection import ParameterGrid\n",
    "\n",
    "grid = [\n",
    "    {\n",
    "        \"method_name\": ['QFedAvgServer'],\n",
    "        'q': [0, 1, 2, 3, 5, 10, 15]\n",
    "    },\n",
    "    {\n",
    "        \"method_name\": ['DL_FedAvgServer'],\n",
    "        's': [0, 1, 2, 3, 5, 10, 15]\n",
    "    }\n",
    "]\n",
    "\n",
    "experiments = []\n",
    "\n",
    "for params in list(ParameterGrid(grid)):\n",
    "   \n",
    "    server, clients = train_model(**params)\n",
    "    df = get_results_from_server(server)\n",
    "    fn = get_fairness(df)\n",
    "    params.update(fn[-1])\n",
    "    experiments.append(\n",
    "        params\n",
    "    )"
   ]
  },
  {
   "cell_type": "code",
   "execution_count": 10,
   "metadata": {},
   "outputs": [],
   "source": [
    "exp = pd.DataFrame(experiments)"
   ]
  },
  {
   "cell_type": "code",
   "execution_count": 11,
   "metadata": {},
   "outputs": [
    {
     "data": {
      "text/html": [
       "<div>\n",
       "<style scoped>\n",
       "    .dataframe tbody tr th:only-of-type {\n",
       "        vertical-align: middle;\n",
       "    }\n",
       "\n",
       "    .dataframe tbody tr th {\n",
       "        vertical-align: top;\n",
       "    }\n",
       "\n",
       "    .dataframe thead th {\n",
       "        text-align: right;\n",
       "    }\n",
       "</style>\n",
       "<table border=\"1\" class=\"dataframe\">\n",
       "  <thead>\n",
       "    <tr style=\"text-align: right;\">\n",
       "      <th></th>\n",
       "      <th>method_name</th>\n",
       "      <th>q</th>\n",
       "      <th>round</th>\n",
       "      <th>min_max</th>\n",
       "      <th>var</th>\n",
       "      <th>gini</th>\n",
       "      <th>acc</th>\n",
       "      <th>s</th>\n",
       "    </tr>\n",
       "  </thead>\n",
       "  <tbody>\n",
       "    <tr>\n",
       "      <th>0</th>\n",
       "      <td>QFedAvgServer</td>\n",
       "      <td>0.0</td>\n",
       "      <td>20</td>\n",
       "      <td>0.100156</td>\n",
       "      <td>6.661122</td>\n",
       "      <td>0.015236</td>\n",
       "      <td>0.929650</td>\n",
       "      <td>NaN</td>\n",
       "    </tr>\n",
       "    <tr>\n",
       "      <th>1</th>\n",
       "      <td>QFedAvgServer</td>\n",
       "      <td>1.0</td>\n",
       "      <td>20</td>\n",
       "      <td>0.098117</td>\n",
       "      <td>5.680603</td>\n",
       "      <td>0.014183</td>\n",
       "      <td>0.930290</td>\n",
       "      <td>NaN</td>\n",
       "    </tr>\n",
       "    <tr>\n",
       "      <th>2</th>\n",
       "      <td>QFedAvgServer</td>\n",
       "      <td>2.0</td>\n",
       "      <td>20</td>\n",
       "      <td>0.152772</td>\n",
       "      <td>10.064112</td>\n",
       "      <td>0.017721</td>\n",
       "      <td>0.929558</td>\n",
       "      <td>NaN</td>\n",
       "    </tr>\n",
       "    <tr>\n",
       "      <th>3</th>\n",
       "      <td>QFedAvgServer</td>\n",
       "      <td>3.0</td>\n",
       "      <td>20</td>\n",
       "      <td>0.100334</td>\n",
       "      <td>5.669857</td>\n",
       "      <td>0.014070</td>\n",
       "      <td>0.933217</td>\n",
       "      <td>NaN</td>\n",
       "    </tr>\n",
       "    <tr>\n",
       "      <th>4</th>\n",
       "      <td>QFedAvgServer</td>\n",
       "      <td>5.0</td>\n",
       "      <td>20</td>\n",
       "      <td>0.084813</td>\n",
       "      <td>4.924791</td>\n",
       "      <td>0.013131</td>\n",
       "      <td>0.932852</td>\n",
       "      <td>NaN</td>\n",
       "    </tr>\n",
       "    <tr>\n",
       "      <th>5</th>\n",
       "      <td>QFedAvgServer</td>\n",
       "      <td>10.0</td>\n",
       "      <td>20</td>\n",
       "      <td>0.090467</td>\n",
       "      <td>5.533500</td>\n",
       "      <td>0.013818</td>\n",
       "      <td>0.931479</td>\n",
       "      <td>NaN</td>\n",
       "    </tr>\n",
       "    <tr>\n",
       "      <th>6</th>\n",
       "      <td>QFedAvgServer</td>\n",
       "      <td>15.0</td>\n",
       "      <td>20</td>\n",
       "      <td>0.103653</td>\n",
       "      <td>6.004721</td>\n",
       "      <td>0.014351</td>\n",
       "      <td>0.933949</td>\n",
       "      <td>NaN</td>\n",
       "    </tr>\n",
       "    <tr>\n",
       "      <th>7</th>\n",
       "      <td>DL_FedAvgServer</td>\n",
       "      <td>NaN</td>\n",
       "      <td>19</td>\n",
       "      <td>0.100685</td>\n",
       "      <td>5.578616</td>\n",
       "      <td>0.013786</td>\n",
       "      <td>0.933400</td>\n",
       "      <td>0.0</td>\n",
       "    </tr>\n",
       "    <tr>\n",
       "      <th>8</th>\n",
       "      <td>DL_FedAvgServer</td>\n",
       "      <td>NaN</td>\n",
       "      <td>19</td>\n",
       "      <td>0.104238</td>\n",
       "      <td>6.751418</td>\n",
       "      <td>0.015421</td>\n",
       "      <td>0.931388</td>\n",
       "      <td>1.0</td>\n",
       "    </tr>\n",
       "    <tr>\n",
       "      <th>9</th>\n",
       "      <td>DL_FedAvgServer</td>\n",
       "      <td>NaN</td>\n",
       "      <td>19</td>\n",
       "      <td>0.097896</td>\n",
       "      <td>6.334631</td>\n",
       "      <td>0.014932</td>\n",
       "      <td>0.931205</td>\n",
       "      <td>2.0</td>\n",
       "    </tr>\n",
       "    <tr>\n",
       "      <th>10</th>\n",
       "      <td>DL_FedAvgServer</td>\n",
       "      <td>NaN</td>\n",
       "      <td>19</td>\n",
       "      <td>0.106884</td>\n",
       "      <td>6.225963</td>\n",
       "      <td>0.014528</td>\n",
       "      <td>0.932943</td>\n",
       "      <td>3.0</td>\n",
       "    </tr>\n",
       "    <tr>\n",
       "      <th>11</th>\n",
       "      <td>DL_FedAvgServer</td>\n",
       "      <td>NaN</td>\n",
       "      <td>19</td>\n",
       "      <td>0.089248</td>\n",
       "      <td>5.060304</td>\n",
       "      <td>0.013287</td>\n",
       "      <td>0.931662</td>\n",
       "      <td>5.0</td>\n",
       "    </tr>\n",
       "    <tr>\n",
       "      <th>12</th>\n",
       "      <td>DL_FedAvgServer</td>\n",
       "      <td>NaN</td>\n",
       "      <td>19</td>\n",
       "      <td>0.131819</td>\n",
       "      <td>6.509645</td>\n",
       "      <td>0.014211</td>\n",
       "      <td>0.933126</td>\n",
       "      <td>10.0</td>\n",
       "    </tr>\n",
       "    <tr>\n",
       "      <th>13</th>\n",
       "      <td>DL_FedAvgServer</td>\n",
       "      <td>NaN</td>\n",
       "      <td>19</td>\n",
       "      <td>0.112175</td>\n",
       "      <td>6.791557</td>\n",
       "      <td>0.015209</td>\n",
       "      <td>0.930839</td>\n",
       "      <td>15.0</td>\n",
       "    </tr>\n",
       "  </tbody>\n",
       "</table>\n",
       "</div>"
      ],
      "text/plain": [
       "        method_name     q  round   min_max        var      gini       acc  \\\n",
       "0     QFedAvgServer   0.0     20  0.100156   6.661122  0.015236  0.929650   \n",
       "1     QFedAvgServer   1.0     20  0.098117   5.680603  0.014183  0.930290   \n",
       "2     QFedAvgServer   2.0     20  0.152772  10.064112  0.017721  0.929558   \n",
       "3     QFedAvgServer   3.0     20  0.100334   5.669857  0.014070  0.933217   \n",
       "4     QFedAvgServer   5.0     20  0.084813   4.924791  0.013131  0.932852   \n",
       "5     QFedAvgServer  10.0     20  0.090467   5.533500  0.013818  0.931479   \n",
       "6     QFedAvgServer  15.0     20  0.103653   6.004721  0.014351  0.933949   \n",
       "7   DL_FedAvgServer   NaN     19  0.100685   5.578616  0.013786  0.933400   \n",
       "8   DL_FedAvgServer   NaN     19  0.104238   6.751418  0.015421  0.931388   \n",
       "9   DL_FedAvgServer   NaN     19  0.097896   6.334631  0.014932  0.931205   \n",
       "10  DL_FedAvgServer   NaN     19  0.106884   6.225963  0.014528  0.932943   \n",
       "11  DL_FedAvgServer   NaN     19  0.089248   5.060304  0.013287  0.931662   \n",
       "12  DL_FedAvgServer   NaN     19  0.131819   6.509645  0.014211  0.933126   \n",
       "13  DL_FedAvgServer   NaN     19  0.112175   6.791557  0.015209  0.930839   \n",
       "\n",
       "       s  \n",
       "0    NaN  \n",
       "1    NaN  \n",
       "2    NaN  \n",
       "3    NaN  \n",
       "4    NaN  \n",
       "5    NaN  \n",
       "6    NaN  \n",
       "7    0.0  \n",
       "8    1.0  \n",
       "9    2.0  \n",
       "10   3.0  \n",
       "11   5.0  \n",
       "12  10.0  \n",
       "13  15.0  "
      ]
     },
     "execution_count": 11,
     "metadata": {},
     "output_type": "execute_result"
    }
   ],
   "source": [
    "exp"
   ]
  },
  {
   "cell_type": "code",
   "execution_count": 17,
   "metadata": {},
   "outputs": [
    {
     "data": {
      "text/plain": [
       "<AxesSubplot:xlabel='q'>"
      ]
     },
     "execution_count": 17,
     "metadata": {},
     "output_type": "execute_result"
    },
    {
     "data": {
      "image/png": "[encoded data removed]",
      "text/plain": [
       "<Figure size 432x288 with 1 Axes>"
      ]
     },
     "metadata": {
      "needs_background": "light"
     },
     "output_type": "display_data"
    }
   ],
   "source": [
    "# QFed\n",
    "df1 = exp[exp['method_name'] == 'QFedAvgServer'][['q', 'var']]\n",
    "df1.plot(x='q')"
   ]
  },
  {
   "cell_type": "code",
   "execution_count": 18,
   "metadata": {},
   "outputs": [
    {
     "data": {
      "text/plain": [
       "<AxesSubplot:xlabel='s'>"
      ]
     },
     "execution_count": 18,
     "metadata": {},
     "output_type": "execute_result"
    },
    {
     "data": {
      "image/png": "[encoded data removed]",
      "text/plain": [
       "<Figure size 432x288 with 1 Axes>"
      ]
     },
     "metadata": {
      "needs_background": "light"
     },
     "output_type": "display_data"
    }
   ],
   "source": [
    "# DL_Fed\n",
    "df2 = exp[exp['method_name'] == 'DL_FedAvgServer'][['s', 'var']]\n",
    "df2.plot(x='s')"
   ]
  },
  {
   "cell_type": "code",
   "execution_count": 21,
   "metadata": {},
   "outputs": [],
   "source": [
    "x = df1['q'].tolist()"
   ]
  },
  {
   "cell_type": "code",
   "execution_count": 22,
   "metadata": {},
   "outputs": [
    {
     "data": {
      "text/plain": [
       "[0.0, 1.0, 2.0, 3.0, 5.0, 10.0, 15.0]"
      ]
     },
     "execution_count": 22,
     "metadata": {},
     "output_type": "execute_result"
    }
   ],
   "source": [
    "x"
   ]
  },
  {
   "cell_type": "code",
   "execution_count": null,
   "metadata": {},
   "outputs": [],
   "source": []
  }
 ],
 "metadata": {
  "kernelspec": {
   "display_name": "Python 3",
   "language": "python",
   "name": "python3"
  },
  "language_info": {
   "codemirror_mode": {
    "name": "ipython",
    "version": 3
   },
   "file_extension": ".py",
   "mimetype": "text/x-python",
   "name": "python",
   "nbconvert_exporter": "python",
   "pygments_lexer": "ipython3",
   "version": "3.7.9"
  }
 },
 "nbformat": 4,
 "nbformat_minor": 4
}
